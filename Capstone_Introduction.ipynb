{
  "nbformat": 4,
  "nbformat_minor": 0,
  "metadata": {
    "colab": {
      "name": "Capstone-Introduction.ipynb",
      "provenance": []
    },
    "kernelspec": {
      "name": "python3",
      "display_name": "Python 3"
    },
    "language_info": {
      "name": "python"
    }
  },
  "cells": [
    {
      "cell_type": "markdown",
      "metadata": {
        "id": "8uenmI0yyPS4"
      },
      "source": [
        "# Introduction: Location! Location! Location!\n",
        "One of the most critical factors to a restaurants success is its location. However finding a good location for a restaurant is not always as easy as it seems.\n",
        "\n",
        "I will be using data from the foursquare api to provide a recomendation as to locations that could be advantageous to restaurants looking to open in Las Vegas. I plan to use foursquare data to identify areas in the city that have a high density of venues with a large amount of check-ins, yet have a low density of restaurants.\n",
        "\n",
        "**Audience:** This problem will be of particular interest to investors, chain restaurts, or restuaranters interested in opening a new restaurants in las vegas."
      ]
    },
    {
      "cell_type": "code",
      "metadata": {
        "id": "Wrw6MNBJyhty"
      },
      "source": [
        ""
      ],
      "execution_count": null,
      "outputs": []
    }
  ]
}