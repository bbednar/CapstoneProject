{
  "nbformat": 4,
  "nbformat_minor": 0,
  "metadata": {
    "colab": {
      "name": "Capstone-Data.ipynb",
      "provenance": []
    },
    "kernelspec": {
      "name": "python3",
      "display_name": "Python 3"
    },
    "language_info": {
      "name": "python"
    }
  },
  "cells": [
    {
      "cell_type": "markdown",
      "metadata": {
        "id": "gXrEfofTyvAV"
      },
      "source": [
        "# **Data**\n",
        "The following data points will be used to solve the problem of where to open a restaurant in Las vegas are as follows:\n",
        "\n",
        "\n",
        "*   A list of restaurants within a 5 mile radius\n",
        "*   The number of check-ins a venue has received in the last year\n",
        "*   A trendline for a venues check-ins over the last year\n",
        "*   Each venues proximitity to the nearest restaurant"
      ]
    }
  ]
}